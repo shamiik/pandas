{
  "cells": [
    {
      "cell_type": "markdown",
      "metadata": {
        "id": "ja3oXzO15fUv"
      },
      "source": [
        "**Pandas**\n",
        "\n",
        "*   Single Dimensional - Series Object\n",
        "*   Multi Dimensional - Data Frame"
      ]
    },
    {
      "cell_type": "code",
      "execution_count": 1,
      "metadata": {
        "colab": {
          "base_uri": "https://localhost:8080/"
        },
        "id": "IBRJHRkx9zK-",
        "outputId": "6e501eae-bf4f-40d0-b59d-ff2dc0c298e0"
      },
      "outputs": [
        {
          "data": {
            "text/plain": [
              "0    1\n",
              "1    2\n",
              "2    3\n",
              "3    4\n",
              "4    5\n",
              "5    6\n",
              "6    7\n",
              "7    8\n",
              "8    9\n",
              "dtype: int64"
            ]
          },
          "execution_count": 1,
          "metadata": {},
          "output_type": "execute_result"
        }
      ],
      "source": [
        "import pandas as pd\n",
        "l1= [1,2,3,4,5,6,7,8,9]\n",
        "s1 = pd.Series(l1)\n",
        "s1"
      ]
    },
    {
      "cell_type": "code",
      "execution_count": 2,
      "metadata": {
        "colab": {
          "base_uri": "https://localhost:8080/"
        },
        "id": "hPBsoaQA-e08",
        "outputId": "8506be4c-fc5f-4392-f5fa-815302e92d2b"
      },
      "outputs": [
        {
          "data": {
            "text/plain": [
              "0    10\n",
              "1    20\n",
              "2    30\n",
              "3    40\n",
              "dtype: int64"
            ]
          },
          "execution_count": 2,
          "metadata": {},
          "output_type": "execute_result"
        }
      ],
      "source": [
        "s2= pd.Series([10,20,30,40])\n",
        "s2"
      ]
    },
    {
      "cell_type": "code",
      "execution_count": 3,
      "metadata": {
        "colab": {
          "base_uri": "https://localhost:8080/"
        },
        "id": "OqpjpLUF-44I",
        "outputId": "f8ac4212-8e6d-4e66-f644-ee5ed941c2e6"
      },
      "outputs": [
        {
          "data": {
            "text/plain": [
              "pandas.core.series.Series"
            ]
          },
          "execution_count": 3,
          "metadata": {},
          "output_type": "execute_result"
        }
      ],
      "source": [
        "type(s2)"
      ]
    },
    {
      "cell_type": "markdown",
      "metadata": {
        "id": "BaAItFvm_JzP"
      },
      "source": [
        "**Changing Index**"
      ]
    },
    {
      "cell_type": "code",
      "execution_count": 4,
      "metadata": {
        "colab": {
          "base_uri": "https://localhost:8080/"
        },
        "id": "BRhXluuG_IJ4",
        "outputId": "7dfd1b63-931a-4630-d15c-fbbee908833c"
      },
      "outputs": [
        {
          "data": {
            "text/plain": [
              "a       2\n",
              "b       3\n",
              "Four    4\n",
              "d       5\n",
              "Six     6\n",
              "dtype: int64"
            ]
          },
          "execution_count": 4,
          "metadata": {},
          "output_type": "execute_result"
        }
      ],
      "source": [
        "s3= pd.Series([2,3,4,5,6] , index=['a','b','Four','d','Six'])\n",
        "s3"
      ]
    },
    {
      "cell_type": "markdown",
      "metadata": {
        "id": "mTIF5IiNAzDJ"
      },
      "source": [
        "Series Object frim Dictionary\n",
        "* Second bracket"
      ]
    },
    {
      "cell_type": "code",
      "execution_count": 5,
      "metadata": {
        "colab": {
          "base_uri": "https://localhost:8080/"
        },
        "id": "z2_UxK8PA3U8",
        "outputId": "a52b8e18-744b-43f8-8579-63f84ab2af2b"
      },
      "outputs": [
        {
          "data": {
            "text/plain": [
              "a    100\n",
              "b    110\n",
              "c    120\n",
              "dtype: int64"
            ]
          },
          "execution_count": 5,
          "metadata": {},
          "output_type": "execute_result"
        }
      ],
      "source": [
        "s4= pd.Series({'a':100,'b':110,'c': 120})\n",
        "s4"
      ]
    },
    {
      "cell_type": "markdown",
      "metadata": {
        "id": "pZChQ9DQB18i"
      },
      "source": [
        "Changing Index Positoion"
      ]
    },
    {
      "cell_type": "code",
      "execution_count": 6,
      "metadata": {
        "colab": {
          "base_uri": "https://localhost:8080/"
        },
        "id": "Lp90L-7DDtDH",
        "outputId": "e8bcbdf1-78bf-4a1d-b6f7-712fc9ea1746"
      },
      "outputs": [
        {
          "data": {
            "text/plain": [
              "c    30.0\n",
              "b    20.0\n",
              "d     NaN\n",
              "a    10.0\n",
              "dtype: float64"
            ]
          },
          "execution_count": 6,
          "metadata": {},
          "output_type": "execute_result"
        }
      ],
      "source": [
        "s5= pd.Series({'a':10,'b':20,'c':30},index=['c','b','d','a'])\n",
        "s5"
      ]
    },
    {
      "cell_type": "markdown",
      "metadata": {
        "id": "tidHfkLRGZg7"
      },
      "source": [
        "Extracting a single Element"
      ]
    },
    {
      "cell_type": "code",
      "execution_count": 7,
      "metadata": {
        "colab": {
          "base_uri": "https://localhost:8080/"
        },
        "id": "nFTKXS8DGFDM",
        "outputId": "a6309539-5516-46e5-9f2c-442799d7fd29"
      },
      "outputs": [
        {
          "data": {
            "text/plain": [
              "16"
            ]
          },
          "execution_count": 7,
          "metadata": {},
          "output_type": "execute_result"
        }
      ],
      "source": [
        "s6 =pd.Series([10,12,14,16,18,19,22,24,26])\n",
        "s6[3] #Extracting a single element"
      ]
    },
    {
      "cell_type": "code",
      "execution_count": 8,
      "metadata": {
        "colab": {
          "base_uri": "https://localhost:8080/"
        },
        "id": "g5ufFe_eHCCF",
        "outputId": "0da84ef0-51c6-4d3d-f5aa-c0517c1e5d99"
      },
      "outputs": [
        {
          "data": {
            "text/plain": [
              "0    10\n",
              "1    12\n",
              "2    14\n",
              "dtype: int64"
            ]
          },
          "execution_count": 8,
          "metadata": {},
          "output_type": "execute_result"
        }
      ],
      "source": [
        "s6[:3 ]  #Extracting sequence of elements"
      ]
    },
    {
      "cell_type": "code",
      "execution_count": 9,
      "metadata": {
        "colab": {
          "base_uri": "https://localhost:8080/"
        },
        "id": "OId0jen6HdV8",
        "outputId": "7b91ed27-7c75-4800-8fd9-5de0f4d4ae75"
      },
      "outputs": [
        {
          "data": {
            "text/plain": [
              "6    22\n",
              "7    24\n",
              "8    26\n",
              "dtype: int64"
            ]
          },
          "execution_count": 9,
          "metadata": {},
          "output_type": "execute_result"
        }
      ],
      "source": [
        "s6[-3:] #Extracting sequence from back"
      ]
    },
    {
      "cell_type": "markdown",
      "metadata": {
        "id": "KSdLixL7JvFr"
      },
      "source": [
        "Math Operation"
      ]
    },
    {
      "cell_type": "code",
      "execution_count": 10,
      "metadata": {
        "colab": {
          "base_uri": "https://localhost:8080/"
        },
        "id": "2lMhBabtJupX",
        "outputId": "7efd9503-62a3-4b2b-e95a-9180e4b53f3f"
      },
      "outputs": [
        {
          "data": {
            "text/plain": [
              "0    1\n",
              "1    2\n",
              "2    3\n",
              "3    4\n",
              "4    5\n",
              "5    6\n",
              "6    7\n",
              "7    8\n",
              "8    9\n",
              "dtype: int64"
            ]
          },
          "execution_count": 10,
          "metadata": {},
          "output_type": "execute_result"
        }
      ],
      "source": [
        "s1\n"
      ]
    },
    {
      "cell_type": "code",
      "execution_count": 11,
      "metadata": {
        "colab": {
          "base_uri": "https://localhost:8080/"
        },
        "id": "DI7HLJy0JtWJ",
        "outputId": "ecbf8941-8768-4e8b-cf15-0237365e111a"
      },
      "outputs": [
        {
          "data": {
            "text/plain": [
              "0     6\n",
              "1     7\n",
              "2     8\n",
              "3     9\n",
              "4    10\n",
              "5    11\n",
              "6    12\n",
              "7    13\n",
              "8    14\n",
              "dtype: int64"
            ]
          },
          "execution_count": 11,
          "metadata": {},
          "output_type": "execute_result"
        }
      ],
      "source": [
        "s1+5"
      ]
    },
    {
      "cell_type": "code",
      "execution_count": 12,
      "metadata": {
        "colab": {
          "base_uri": "https://localhost:8080/"
        },
        "id": "rQFuhBlaKYr1",
        "outputId": "14963c34-509d-4f6c-8f9f-fb0874481e96"
      },
      "outputs": [
        {
          "data": {
            "text/plain": [
              "0   -2\n",
              "1   -1\n",
              "2    0\n",
              "3    1\n",
              "4    2\n",
              "5    3\n",
              "6    4\n",
              "7    5\n",
              "8    6\n",
              "dtype: int64"
            ]
          },
          "execution_count": 12,
          "metadata": {},
          "output_type": "execute_result"
        }
      ],
      "source": [
        "s1 - 3"
      ]
    },
    {
      "cell_type": "code",
      "execution_count": 13,
      "metadata": {
        "colab": {
          "base_uri": "https://localhost:8080/"
        },
        "id": "902U5q-TKf7F",
        "outputId": "66dc89ce-73a4-4f8a-ca28-2b3f0dde2245"
      },
      "outputs": [
        {
          "data": {
            "text/plain": [
              "0     2\n",
              "1     4\n",
              "2     6\n",
              "3     8\n",
              "4    10\n",
              "5    12\n",
              "6    14\n",
              "7    16\n",
              "8    18\n",
              "dtype: int64"
            ]
          },
          "execution_count": 13,
          "metadata": {},
          "output_type": "execute_result"
        }
      ],
      "source": [
        "s1*2"
      ]
    },
    {
      "cell_type": "code",
      "execution_count": 14,
      "metadata": {
        "colab": {
          "base_uri": "https://localhost:8080/"
        },
        "id": "9cWt_5WFnxHs",
        "outputId": "c5d5a326-d889-49af-bb6d-7fdd2679ae31"
      },
      "outputs": [
        {
          "data": {
            "text/plain": [
              "(0    1\n",
              " 1    2\n",
              " 2    3\n",
              " 3    4\n",
              " 4    5\n",
              " 5    6\n",
              " 6    7\n",
              " 7    8\n",
              " 8    9\n",
              " dtype: int64,\n",
              " 0    10\n",
              " 1    12\n",
              " 2    14\n",
              " 3    16\n",
              " 4    18\n",
              " 5    19\n",
              " 6    22\n",
              " 7    24\n",
              " 8    26\n",
              " dtype: int64)"
            ]
          },
          "execution_count": 14,
          "metadata": {},
          "output_type": "execute_result"
        }
      ],
      "source": [
        "s1,s6"
      ]
    },
    {
      "cell_type": "code",
      "execution_count": 15,
      "metadata": {
        "colab": {
          "base_uri": "https://localhost:8080/"
        },
        "id": "SFZ8x2WVoI3e",
        "outputId": "28542e98-3ff2-48f8-966f-fb8228c4433b"
      },
      "outputs": [
        {
          "data": {
            "text/plain": [
              "0    11\n",
              "1    14\n",
              "2    17\n",
              "3    20\n",
              "4    23\n",
              "5    25\n",
              "6    29\n",
              "7    32\n",
              "8    35\n",
              "dtype: int64"
            ]
          },
          "execution_count": 15,
          "metadata": {},
          "output_type": "execute_result"
        }
      ],
      "source": [
        "s1+s6"
      ]
    }
  ],
  "metadata": {
    "colab": {
      "provenance": []
    },
    "kernelspec": {
      "display_name": "deep",
      "language": "python",
      "name": "python3"
    },
    "language_info": {
      "codemirror_mode": {
        "name": "ipython",
        "version": 3
      },
      "file_extension": ".py",
      "mimetype": "text/x-python",
      "name": "python",
      "nbconvert_exporter": "python",
      "pygments_lexer": "ipython3",
      "version": "3.9.15 (main, Nov 24 2022, 14:39:17) [MSC v.1916 64 bit (AMD64)]"
    },
    "vscode": {
      "interpreter": {
        "hash": "62a7e6cc7e95c681fab5963f4261543aa9c64e92c6f5ddf029b710299d39ea15"
      }
    }
  },
  "nbformat": 4,
  "nbformat_minor": 0
}
