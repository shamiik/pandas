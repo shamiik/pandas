{
  "nbformat": 4,
  "nbformat_minor": 0,
  "metadata": {
    "colab": {
      "provenance": [],
      "authorship_tag": "ABX9TyPU8DrHGHwgMEJ+BpCDf6fQ",
      "include_colab_link": true
    },
    "kernelspec": {
      "name": "python3",
      "display_name": "Python 3"
    },
    "language_info": {
      "name": "python"
    }
  },
  "cells": [
    {
      "cell_type": "markdown",
      "metadata": {
        "id": "view-in-github",
        "colab_type": "text"
      },
      "source": [
        "<a href=\"https://colab.research.google.com/github/shamiik/pandas/blob/main/introToPandas.ipynb\" target=\"_parent\"><img src=\"https://colab.research.google.com/assets/colab-badge.svg\" alt=\"Open In Colab\"/></a>"
      ]
    },
    {
      "cell_type": "markdown",
      "source": [
        "**Pandas**\n",
        "\n",
        "*   Single Dimensional - Series Object\n",
        "*   Multi Dimensional - Data Frame"
      ],
      "metadata": {
        "id": "ja3oXzO15fUv"
      }
    },
    {
      "cell_type": "code",
      "source": [
        "import pandas as pd\n",
        "l1= [1,2,3,4,5,6,7,8,9]\n",
        "s1 = pd.Series(l1)\n",
        "s1"
      ],
      "metadata": {
        "colab": {
          "base_uri": "https://localhost:8080/"
        },
        "id": "IBRJHRkx9zK-",
        "outputId": "ca01338a-0fc8-473c-8e36-a0c524956f6b"
      },
      "execution_count": 2,
      "outputs": [
        {
          "output_type": "execute_result",
          "data": {
            "text/plain": [
              "0    1\n",
              "1    2\n",
              "2    3\n",
              "3    4\n",
              "4    5\n",
              "5    6\n",
              "6    7\n",
              "7    8\n",
              "8    9\n",
              "dtype: int64"
            ]
          },
          "metadata": {},
          "execution_count": 2
        }
      ]
    },
    {
      "cell_type": "code",
      "source": [
        "s2= pd.Series([10,20,30,40])\n",
        "s2"
      ],
      "metadata": {
        "colab": {
          "base_uri": "https://localhost:8080/"
        },
        "id": "hPBsoaQA-e08",
        "outputId": "d287682d-685b-4be7-c214-9c275c0776df"
      },
      "execution_count": 3,
      "outputs": [
        {
          "output_type": "execute_result",
          "data": {
            "text/plain": [
              "0    10\n",
              "1    20\n",
              "2    30\n",
              "3    40\n",
              "dtype: int64"
            ]
          },
          "metadata": {},
          "execution_count": 3
        }
      ]
    },
    {
      "cell_type": "code",
      "source": [
        "type(s2)"
      ],
      "metadata": {
        "colab": {
          "base_uri": "https://localhost:8080/"
        },
        "id": "OqpjpLUF-44I",
        "outputId": "b7d36c09-e889-4412-f3e1-b82029ecb9b4"
      },
      "execution_count": 4,
      "outputs": [
        {
          "output_type": "execute_result",
          "data": {
            "text/plain": [
              "pandas.core.series.Series"
            ]
          },
          "metadata": {},
          "execution_count": 4
        }
      ]
    },
    {
      "cell_type": "markdown",
      "source": [
        "**Changing Index**"
      ],
      "metadata": {
        "id": "BaAItFvm_JzP"
      }
    },
    {
      "cell_type": "code",
      "source": [
        "s3= pd.Series([2,3,4,5,6] , index=['a','b','Four','d','Six'])\n",
        "s3"
      ],
      "metadata": {
        "colab": {
          "base_uri": "https://localhost:8080/"
        },
        "id": "BRhXluuG_IJ4",
        "outputId": "5a40f59d-f82f-4458-9d34-37668f12cefd"
      },
      "execution_count": 5,
      "outputs": [
        {
          "output_type": "execute_result",
          "data": {
            "text/plain": [
              "a       2\n",
              "b       3\n",
              "Four    4\n",
              "d       5\n",
              "Six     6\n",
              "dtype: int64"
            ]
          },
          "metadata": {},
          "execution_count": 5
        }
      ]
    },
    {
      "cell_type": "markdown",
      "source": [
        "**Series Object from Dictionary**\n",
        "* Second bracket"
      ],
      "metadata": {
        "id": "mTIF5IiNAzDJ"
      }
    },
    {
      "cell_type": "code",
      "source": [
        "s4= pd.Series({'a':100,'b':110,'c': 120})\n",
        "s4"
      ],
      "metadata": {
        "colab": {
          "base_uri": "https://localhost:8080/"
        },
        "id": "z2_UxK8PA3U8",
        "outputId": "7a6dd199-ff01-4336-e099-894971523760"
      },
      "execution_count": 6,
      "outputs": [
        {
          "output_type": "execute_result",
          "data": {
            "text/plain": [
              "a    100\n",
              "b    110\n",
              "c    120\n",
              "dtype: int64"
            ]
          },
          "metadata": {},
          "execution_count": 6
        }
      ]
    },
    {
      "cell_type": "markdown",
      "source": [
        "**Changing Index Positoion**"
      ],
      "metadata": {
        "id": "pZChQ9DQB18i"
      }
    },
    {
      "cell_type": "code",
      "source": [
        "s5= pd.Series({'a':10,'b':20,'c':30},index=['c','b','d','a'])\n",
        "s5"
      ],
      "metadata": {
        "colab": {
          "base_uri": "https://localhost:8080/"
        },
        "id": "Lp90L-7DDtDH",
        "outputId": "180f4392-aead-4a47-e9c8-1269cd1705e8"
      },
      "execution_count": 7,
      "outputs": [
        {
          "output_type": "execute_result",
          "data": {
            "text/plain": [
              "c    30.0\n",
              "b    20.0\n",
              "d     NaN\n",
              "a    10.0\n",
              "dtype: float64"
            ]
          },
          "metadata": {},
          "execution_count": 7
        }
      ]
    },
    {
      "cell_type": "markdown",
      "source": [
        "**Extracting a single Element**"
      ],
      "metadata": {
        "id": "tidHfkLRGZg7"
      }
    },
    {
      "cell_type": "code",
      "source": [
        "s6 =pd.Series([10,12,14,16,18,19,22,24,26])\n",
        "s6[3] #Extracting a single element"
      ],
      "metadata": {
        "colab": {
          "base_uri": "https://localhost:8080/"
        },
        "id": "nFTKXS8DGFDM",
        "outputId": "d52890d4-e5fb-4054-ed3f-e9ab8e5f4844"
      },
      "execution_count": 8,
      "outputs": [
        {
          "output_type": "execute_result",
          "data": {
            "text/plain": [
              "16"
            ]
          },
          "metadata": {},
          "execution_count": 8
        }
      ]
    },
    {
      "cell_type": "code",
      "source": [
        "s6[:3 ]  #Extracting sequence of elements"
      ],
      "metadata": {
        "colab": {
          "base_uri": "https://localhost:8080/"
        },
        "id": "g5ufFe_eHCCF",
        "outputId": "72300fa7-fd2d-4cf5-ab13-11844330745f"
      },
      "execution_count": 9,
      "outputs": [
        {
          "output_type": "execute_result",
          "data": {
            "text/plain": [
              "0    10\n",
              "1    12\n",
              "2    14\n",
              "dtype: int64"
            ]
          },
          "metadata": {},
          "execution_count": 9
        }
      ]
    },
    {
      "cell_type": "code",
      "source": [
        "s6[-3:] #Extracting sequence from back"
      ],
      "metadata": {
        "colab": {
          "base_uri": "https://localhost:8080/"
        },
        "id": "OId0jen6HdV8",
        "outputId": "c551e65d-1a7a-4d29-dbdb-39c8cffa2cac"
      },
      "execution_count": 10,
      "outputs": [
        {
          "output_type": "execute_result",
          "data": {
            "text/plain": [
              "6    22\n",
              "7    24\n",
              "8    26\n",
              "dtype: int64"
            ]
          },
          "metadata": {},
          "execution_count": 10
        }
      ]
    },
    {
      "cell_type": "markdown",
      "source": [
        "**Math Operation on Series**"
      ],
      "metadata": {
        "id": "KSdLixL7JvFr"
      }
    },
    {
      "cell_type": "code",
      "source": [
        "s1\n"
      ],
      "metadata": {
        "colab": {
          "base_uri": "https://localhost:8080/"
        },
        "id": "2lMhBabtJupX",
        "outputId": "09a2095c-0e53-454b-e375-2837df91f4a4"
      },
      "execution_count": 16,
      "outputs": [
        {
          "output_type": "execute_result",
          "data": {
            "text/plain": [
              "0    1\n",
              "1    2\n",
              "2    3\n",
              "3    4\n",
              "4    5\n",
              "5    6\n",
              "6    7\n",
              "7    8\n",
              "8    9\n",
              "dtype: int64"
            ]
          },
          "metadata": {},
          "execution_count": 16
        }
      ]
    },
    {
      "cell_type": "code",
      "source": [
        "s1+5"
      ],
      "metadata": {
        "colab": {
          "base_uri": "https://localhost:8080/"
        },
        "id": "DI7HLJy0JtWJ",
        "outputId": "0fb69bb3-2736-457f-bc6f-10fa56f4a8e0"
      },
      "execution_count": 11,
      "outputs": [
        {
          "output_type": "execute_result",
          "data": {
            "text/plain": [
              "0     6\n",
              "1     7\n",
              "2     8\n",
              "3     9\n",
              "4    10\n",
              "5    11\n",
              "6    12\n",
              "7    13\n",
              "8    14\n",
              "dtype: int64"
            ]
          },
          "metadata": {},
          "execution_count": 11
        }
      ]
    },
    {
      "cell_type": "code",
      "source": [
        "s1 - 3"
      ],
      "metadata": {
        "colab": {
          "base_uri": "https://localhost:8080/"
        },
        "id": "rQFuhBlaKYr1",
        "outputId": "e034b59e-d9be-425b-e37c-b38d9b9c76e8"
      },
      "execution_count": 12,
      "outputs": [
        {
          "output_type": "execute_result",
          "data": {
            "text/plain": [
              "0   -2\n",
              "1   -1\n",
              "2    0\n",
              "3    1\n",
              "4    2\n",
              "5    3\n",
              "6    4\n",
              "7    5\n",
              "8    6\n",
              "dtype: int64"
            ]
          },
          "metadata": {},
          "execution_count": 12
        }
      ]
    },
    {
      "cell_type": "code",
      "source": [
        "s1*2"
      ],
      "metadata": {
        "colab": {
          "base_uri": "https://localhost:8080/"
        },
        "id": "902U5q-TKf7F",
        "outputId": "5eddcfdb-dd13-4547-e3e1-d8c3034c97a2"
      },
      "execution_count": 13,
      "outputs": [
        {
          "output_type": "execute_result",
          "data": {
            "text/plain": [
              "0     2\n",
              "1     4\n",
              "2     6\n",
              "3     8\n",
              "4    10\n",
              "5    12\n",
              "6    14\n",
              "7    16\n",
              "8    18\n",
              "dtype: int64"
            ]
          },
          "metadata": {},
          "execution_count": 13
        }
      ]
    },
    {
      "cell_type": "code",
      "source": [
        "s1,s6"
      ],
      "metadata": {
        "colab": {
          "base_uri": "https://localhost:8080/"
        },
        "id": "9cWt_5WFnxHs",
        "outputId": "c6b0638c-acf2-41ce-a019-27c4390c9c4c"
      },
      "execution_count": 17,
      "outputs": [
        {
          "output_type": "execute_result",
          "data": {
            "text/plain": [
              "(0    1\n",
              " 1    2\n",
              " 2    3\n",
              " 3    4\n",
              " 4    5\n",
              " 5    6\n",
              " 6    7\n",
              " 7    8\n",
              " 8    9\n",
              " dtype: int64, 0    10\n",
              " 1    12\n",
              " 2    14\n",
              " 3    16\n",
              " 4    18\n",
              " 5    19\n",
              " 6    22\n",
              " 7    24\n",
              " 8    26\n",
              " dtype: int64)"
            ]
          },
          "metadata": {},
          "execution_count": 17
        }
      ]
    },
    {
      "cell_type": "code",
      "source": [
        "s1+s6"
      ],
      "metadata": {
        "id": "SFZ8x2WVoI3e",
        "outputId": "39f258b7-a2b0-4c3c-fe3a-2a1fa17c6f7e",
        "colab": {
          "base_uri": "https://localhost:8080/"
        }
      },
      "execution_count": 18,
      "outputs": [
        {
          "output_type": "execute_result",
          "data": {
            "text/plain": [
              "0    11\n",
              "1    14\n",
              "2    17\n",
              "3    20\n",
              "4    23\n",
              "5    25\n",
              "6    29\n",
              "7    32\n",
              "8    35\n",
              "dtype: int64"
            ]
          },
          "metadata": {},
          "execution_count": 18
        }
      ]
    }
  ]
}